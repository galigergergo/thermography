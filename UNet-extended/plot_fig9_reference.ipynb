{
 "cells": [
  {
   "cell_type": "markdown",
   "metadata": {},
   "source": [
    "# Plotting Figure 9\n",
    "This script is to reproduce Figure 9 from the paper.  \n",
    "Please be aware that you first need to run the script **inference_full** in order to have all the results necessary.\n",
    "\n",
    "## Checking GPU Availability\n",
    "First, let's see if we have a GPU available. It is highly recommended to utilize a GPU, although it is also possible to run this experiment on the CPU at a much slower rate."
   ]
  },
  {
   "cell_type": "code",
   "execution_count": 1,
   "metadata": {},
   "outputs": [
    {
     "name": "stdout",
     "output_type": "stream",
     "text": [
      "using cuda for evaluation...\n"
     ]
    }
   ],
   "source": [
    "import matplotlib.pyplot as plt\n",
    "\n",
    "from experiment import *\n",
    "from experiment_config import *\n",
    "from loss_utils import getMSELoss\n",
    "from data_utils import get_result_path, load_results\n",
    "\n",
    "device = torch.device('cuda' if torch.cuda.is_available() else 'cpu')\n",
    "print(\"using \" + str(device) + \" for evaluation...\")\n"
   ]
  },
  {
   "cell_type": "markdown",
   "metadata": {},
   "source": [
    "## Defining Locations of Ground Truth Masks and Results"
   ]
  },
  {
   "cell_type": "code",
   "execution_count": 2,
   "metadata": {},
   "outputs": [],
   "source": [
    "mask_dir = os.path.join(os.getcwd(), 'data', 'masks', 'test')\n",
    "hybrid_input_path = os.path.join(os.getcwd(), 'data', 'hybrid', 'test')\n",
    "e2e_input_path = os.path.join(os.getcwd(), 'data', 'end2end', 'test')"
   ]
  },
  {
   "cell_type": "markdown",
   "metadata": {},
   "source": [
    "Notice, we just take the results from a single model for each approach, since we previously showed that the variance of several runs is negligible."
   ]
  },
  {
   "cell_type": "code",
   "execution_count": 3,
   "metadata": {},
   "outputs": [],
   "source": [
    "lrg_hybrid_model_file = os.path.join(os.getcwd(), 'data', 'hybrid', 'models', 'lrg', '80k',\n",
    "                                     '2020-4-25_15-5-29.503889', 'models', 'best_model.pth')\n",
    "lrg_hybrid_results_path = get_result_path(lrg_hybrid_model_file, hybrid_input_path)\n",
    "lrg_hybrid_results = load_results(lrg_hybrid_results_path, mask_dir, getHybridPrefixes())\n",
    "\n",
    "cmp_hybrid_model_file = os.path.join(os.getcwd(), 'data', 'hybrid', 'models', 'cmp', '80k',\n",
    "                                     '2020-4-25_13-32-31.889297', 'models', 'best_model.pth')\n",
    "cmp_hybrid_results_path = get_result_path(cmp_hybrid_model_file, hybrid_input_path)\n",
    "cmp_hybrid_results = load_results(cmp_hybrid_results_path, mask_dir, getHybridPrefixes())\n",
    "\n",
    "lrg_e2e_model_file = os.path.join(os.getcwd(), 'data', 'end2end', 'models', 'lrg', '80k',\n",
    "                                     '2020-4-17_13-0-34.508471', 'models', 'best_model.pth')\n",
    "lrg_e2e_results_path = get_result_path(lrg_e2e_model_file, e2e_input_path)\n",
    "lrg_e2e_results = load_results(lrg_e2e_results_path, mask_dir, getE2EPrefixes())\n",
    "\n",
    "cmp_e2e_model_file = os.path.join(os.getcwd(), 'data', 'end2end', 'models', 'cmp', '80k',\n",
    "                                     '2020-4-17_13-17-24.661566', 'models', 'best_model.pth')\n",
    "cmp_e2e_results_path = get_result_path(cmp_e2e_model_file, e2e_input_path)\n",
    "cmp_e2e_results = load_results(cmp_e2e_results_path, mask_dir, getE2EPrefixes())"
   ]
  },
  {
   "cell_type": "markdown",
   "metadata": {},
   "source": [
    "## Defining Locations of Baseline Results"
   ]
  },
  {
   "cell_type": "code",
   "execution_count": 4,
   "metadata": {},
   "outputs": [],
   "source": [
    "fkmig_results_path = os.path.join(os.getcwd(), 'data', 'baselines', 'test')\n",
    "fkmig_results = load_results(fkmig_results_path, mask_dir, getFKMIGPrefixes())"
   ]
  },
  {
   "cell_type": "markdown",
   "metadata": {},
   "source": [
    "## Loading and Computing MSE"
   ]
  },
  {
   "cell_type": "code",
   "execution_count": 5,
   "metadata": {},
   "outputs": [
    {
     "name": "stdout",
     "output_type": "stream",
     "text": [
      "loading lrg_hybrid_results: SNR_-20\n",
      "MSE: 0.008803126206621527\n",
      "loading lrg_e2e_results: SNR_-20\n",
      "MSE: 0.009651690484024584\n",
      "loading cmp_hybrid_results: SNR_-20\n",
      "MSE: 0.010185906519182027\n",
      "loading cmp_e2e_results: SNR_-20\n",
      "MSE: 0.011026143450289965\n",
      "loading fkmig_results: SNR_-20\n",
      "MSE: 0.014449673630297184\n",
      "loading lrg_hybrid_results: SNR_-10\n",
      "MSE: 0.005964732066495344\n",
      "loading lrg_e2e_results: SNR_-10\n",
      "MSE: 0.006981522757560015\n",
      "loading cmp_hybrid_results: SNR_-10\n",
      "MSE: 0.007679600892588496\n",
      "loading cmp_e2e_results: SNR_-10\n",
      "MSE: 0.00894622722407803\n",
      "loading fkmig_results: SNR_-10\n",
      "MSE: 0.013186568398959935\n",
      "loading lrg_hybrid_results: SNR_0\n",
      "MSE: 0.004039151470642537\n",
      "loading lrg_e2e_results: SNR_0\n",
      "MSE: 0.00484295413363725\n",
      "loading cmp_hybrid_results: SNR_0\n",
      "MSE: 0.005714260775130242\n",
      "loading cmp_e2e_results: SNR_0\n",
      "MSE: 0.006933301880490034\n",
      "loading fkmig_results: SNR_0\n",
      "MSE: 0.012738173082470893\n",
      "loading lrg_hybrid_results: SNR_10\n",
      "MSE: 0.0030201928643509746\n",
      "loading lrg_e2e_results: SNR_10\n",
      "MSE: 0.0036707290541380644\n",
      "loading cmp_hybrid_results: SNR_10\n",
      "MSE: 0.004564081836724654\n",
      "loading cmp_e2e_results: SNR_10\n",
      "MSE: 0.005484865743201226\n",
      "loading fkmig_results: SNR_10\n",
      "MSE: 0.012197520099580288\n",
      "loading lrg_hybrid_results: SNR_20\n",
      "MSE: 0.002363282307633199\n",
      "loading lrg_e2e_results: SNR_20\n",
      "MSE: 0.002987151665147394\n",
      "loading cmp_hybrid_results: SNR_20\n",
      "MSE: 0.0037149720557499676\n",
      "loading cmp_e2e_results: SNR_20\n",
      "MSE: 0.004676500674104318\n",
      "loading fkmig_results: SNR_20\n",
      "MSE: 0.011507874843664468\n",
      "loading lrg_hybrid_results: SNR_30\n",
      "MSE: 0.0019354335585376249\n",
      "loading lrg_e2e_results: SNR_30\n",
      "MSE: 0.0027666024008067324\n",
      "loading cmp_hybrid_results: SNR_30\n",
      "MSE: 0.0029820849292445926\n",
      "loading cmp_e2e_results: SNR_30\n",
      "MSE: 0.004354317395482212\n",
      "loading fkmig_results: SNR_30\n",
      "MSE: 0.010956470021046699\n",
      "loading lrg_hybrid_results: SNR_40\n",
      "MSE: 0.0015354715602006763\n",
      "loading lrg_e2e_results: SNR_40\n",
      "MSE: 0.002808709532255307\n",
      "loading cmp_hybrid_results: SNR_40\n",
      "MSE: 0.002403023694641888\n",
      "loading cmp_e2e_results: SNR_40\n",
      "MSE: 0.004283439188729972\n",
      "loading fkmig_results: SNR_40\n",
      "MSE: 0.01047516318038106\n",
      "loading lrg_hybrid_results: SNR_50\n",
      "MSE: 0.0012277511911815964\n",
      "loading lrg_e2e_results: SNR_50\n",
      "MSE: 0.002832458916818723\n",
      "loading cmp_hybrid_results: SNR_50\n",
      "MSE: 0.0019395992904901503\n",
      "loading cmp_e2e_results: SNR_50\n",
      "MSE: 0.004279367772396654\n",
      "loading fkmig_results: SNR_50\n",
      "MSE: 0.010141392648220062\n",
      "loading lrg_hybrid_results: SNR_60\n",
      "MSE: 0.0009678636564058252\n",
      "loading lrg_e2e_results: SNR_60\n",
      "MSE: 0.0028449598874431105\n",
      "loading cmp_hybrid_results: SNR_60\n",
      "MSE: 0.0015982421208173036\n",
      "loading cmp_e2e_results: SNR_60\n",
      "MSE: 0.004278289491776377\n",
      "loading fkmig_results: SNR_60\n",
      "MSE: 0.009946966916322708\n",
      "loading lrg_hybrid_results: SNR_70\n",
      "MSE: 0.00089624951055157\n",
      "loading lrg_e2e_results: SNR_70\n",
      "MSE: 0.0028541924874298276\n",
      "loading cmp_hybrid_results: SNR_70\n",
      "MSE: 0.0014279257478483486\n",
      "loading cmp_e2e_results: SNR_70\n",
      "MSE: 0.004277607894036919\n",
      "loading fkmig_results: SNR_70\n",
      "MSE: 0.009824958299286663\n"
     ]
    }
   ],
   "source": [
    "snr_list = [\"SNR_70\", \"SNR_60\", \"SNR_50\", \"SNR_40\", \"SNR_30\", \"SNR_20\", \"SNR_10\", \"SNR_0\", \"SNR_-10\", \"SNR_-20\"]\n",
    "snr_list.reverse()\n",
    "\n",
    "results_template = np.zeros((len(snr_list),1))\n",
    "\n",
    "all_unet_mse_results = np.zeros((results_template.shape))\n",
    "all_small_unet_mse_results = np.zeros((results_template.shape))\n",
    "all_e2e_unet_mse_results = np.zeros((results_template.shape))\n",
    "all_e2e_small_unet_mse_results = np.zeros((results_template.shape))\n",
    "all_fkmig_mse_results = np.zeros((results_template.shape))\n",
    "\n",
    "\n",
    "i=0\n",
    "for snr in snr_list:\n",
    "    print(\"loading lrg_hybrid_results: \" + str(snr))\n",
    "    dataset = lrg_hybrid_results[snr]    \n",
    "    data_loader = get_dataloader(dataset)\n",
    "    all_unet_mse_results[i] = getMSELoss(data_loader)\n",
    "    print('MSE: {}'.format(np.mean(all_unet_mse_results[i])))  \n",
    "\n",
    "    print(\"loading lrg_e2e_results: \" + str(snr))\n",
    "    dataset = lrg_e2e_results[snr]    \n",
    "    data_loader = get_dataloader(dataset)\n",
    "    all_e2e_unet_mse_results[i] = getMSELoss(data_loader)\n",
    "    print('MSE: {}'.format(np.mean(all_e2e_unet_mse_results[i])))  \n",
    "\n",
    "    \n",
    "    print(\"loading cmp_hybrid_results: \" + str(snr))\n",
    "    dataset = cmp_hybrid_results[snr]    \n",
    "    data_loader = get_dataloader(dataset)\n",
    "    all_small_unet_mse_results[i] = getMSELoss(data_loader)\n",
    "    print('MSE: {}'.format(np.mean(all_small_unet_mse_results[i])))  \n",
    "\n",
    "    print(\"loading cmp_e2e_results: \" + str(snr))\n",
    "    dataset = cmp_e2e_results[snr]    \n",
    "    data_loader = get_dataloader(dataset)\n",
    "    all_e2e_small_unet_mse_results[i] = getMSELoss(data_loader)\n",
    "    print('MSE: {}'.format(np.mean(all_e2e_small_unet_mse_results[i])))  \n",
    "    \n",
    "\n",
    "    print(\"loading fkmig_results: \" + str(snr))\n",
    "    dataset = fkmig_results[snr]    \n",
    "    data_loader = get_dataloader(dataset)\n",
    "    all_fkmig_mse_results[i] = getMSELoss(data_loader)\n",
    "    print('MSE: {}'.format(np.mean(all_fkmig_mse_results[i])))  \n",
    "\n",
    "    i+=1"
   ]
  },
  {
   "cell_type": "markdown",
   "metadata": {},
   "source": [
    "## Plotting"
   ]
  },
  {
   "cell_type": "code",
   "execution_count": 6,
   "metadata": {},
   "outputs": [
    {
     "data": {
      "image/png": "[encoded data removed]",
      "text/plain": [
       "<Figure size 648x432 with 1 Axes>"
      ]
     },
     "metadata": {
      "needs_background": "light"
     },
     "output_type": "display_data"
    }
   ],
   "source": [
    "import pandas as pd\n",
    "import matplotlib.pyplot as plt\n",
    "\n",
    "snr_val_list = [\"70\", \"60\", \"50\", \"40\", \"30\", \"20\", \"10\", \"0\", \"-10\", \"-20\"]\n",
    "snr_val_list.reverse()\n",
    "\n",
    "SMALL_SIZE = 18\n",
    "MEDIUM_SIZE = 24\n",
    "BIGGER_SIZE = 32\n",
    "\n",
    "plt.rc('font', size=SMALL_SIZE)          # controls default text sizes\n",
    "plt.rc('axes', titlesize=SMALL_SIZE)     # fontsize of the axes title\n",
    "plt.rc('axes', labelsize=MEDIUM_SIZE)    # fontsize of the x and y labels\n",
    "plt.rc('xtick', labelsize=SMALL_SIZE)    # fontsize of the tick labels\n",
    "plt.rc('ytick', labelsize=SMALL_SIZE)    # fontsize of the tick labels\n",
    "plt.rc('legend', fontsize=MEDIUM_SIZE)    # legend fontsize\n",
    "#plt.rc('legend', ncol=2)\n",
    "plt.rc('figure', titlesize=BIGGER_SIZE)  # fontsize of the figure title\n",
    "params = {'legend.fontsize': SMALL_SIZE,\n",
    "          'legend.handlelength': 1}\n",
    "plt.rcParams.update(params)\n",
    "\n",
    "frame = np.transpose(np.concatenate(([all_fkmig_mse_results], [all_e2e_small_unet_mse_results], [all_small_unet_mse_results], [all_e2e_unet_mse_results], [all_unet_mse_results]), axis=0))\n",
    "\n",
    "all_results = pd.DataFrame(np.reshape(frame, (10,5)), columns=['fkmig', 'e2e cmp', 'hybrid cmp', 'e2e lrg', 'hybrid lrg'])\n",
    "\n",
    "fig, ax = plt.subplots(figsize=(9, 6))\n",
    "styles = ['ks-','ro--','r^-','bo--','b^-'] #  includes colors!\n",
    "markersize = 12\n",
    "subax = all_results.plot(ax=ax, style=styles, linewidth=2.5, legend=True, title='', ms=markersize)\n",
    "\n",
    "subax.set_xticklabels(snr_val_list, rotation=0)\n",
    "ax.set_ylabel('MSE')\n",
    "ax.set_xlabel('SNR')\n",
    "plt.ylim((0.00, 0.018))\n",
    "plt.legend(loc='best', bbox_to_anchor=(1., 0.55))\n",
    "plt.legend(handlelength=3, ncol=2)\n",
    "\n",
    "plt.plot()\n",
    "plt.tight_layout()\n",
    "plt.savefig(\"fkmig_vs_all_vs_SNR.png\", dpi=fig.dpi)"
   ]
  }
 ],
 "metadata": {
  "kernelspec": {
   "display_name": "Python 3",
   "language": "python",
   "name": "python3"
  },
  "language_info": {
   "codemirror_mode": {
    "name": "ipython",
    "version": 3
   },
   "file_extension": ".py",
   "mimetype": "text/x-python",
   "name": "python",
   "nbconvert_exporter": "python",
   "pygments_lexer": "ipython3",
   "version": "3.6.8"
  }
 },
 "nbformat": 4,
 "nbformat_minor": 2
}
