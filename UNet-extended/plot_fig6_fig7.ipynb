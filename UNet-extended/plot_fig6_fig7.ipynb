{
 "cells": [
  {
   "cell_type": "markdown",
   "metadata": {},
   "source": [
    "# Plotting Figures 6 and 7\n",
    "This script is to reproduce Figures 6 and 7 from the paper."
   ]
  },
  {
   "cell_type": "code",
   "execution_count": null,
   "metadata": {},
   "outputs": [],
   "source": [
    "import os\n",
    "import pandas as pd\n",
    "import numpy as np\n",
    "import matplotlib.pyplot as plt\n",
    "\n",
    "from model_info import load_model_losses\n",
    "from experiment_config import get_cmp_e2e_models, get_lrg_e2e_models\n",
    "from experiment_config import get_cmp_hybrid_models, get_lrg_hybrid_models"
   ]
  },
  {
   "cell_type": "markdown",
   "metadata": {},
   "source": [
    "## Define Functions for Loading and Plotting\n",
    "Here, we use the loss values that are stored within the checkpoint, therefore we don't need the actual training and validation results available."
   ]
  },
  {
   "cell_type": "code",
   "execution_count": null,
   "metadata": {},
   "outputs": [],
   "source": [
    "# hardcoded! 2 architectures, 4 scenarios, 5 results each\n",
    "def load_twin_train_val_losses(model_files_A, model_files_B):\n",
    "    model_files = model_files_A\n",
    "    val_losses = np.ones(len(model_files)*2,)\n",
    "    train_losses = np.ones(len(model_files)*2,)\n",
    "\n",
    "    i = 0\n",
    "    for model_file in model_files:\n",
    "        [train_loss, val_loss, depth, wf] = load_model_losses(model_file)\n",
    "\n",
    "        train_losses[i] = train_loss\n",
    "        val_losses[i] = val_loss\n",
    "        i += 1\n",
    "\n",
    "\n",
    "    model_files = model_files_B\n",
    "    for model_file in model_files:\n",
    "        [train_loss, val_loss, depth, wf] = load_model_losses(model_file)\n",
    "\n",
    "        train_losses[i] = train_loss\n",
    "        val_losses[i] = val_loss\n",
    "        i += 1\n",
    "        \n",
    "    train_losses = np.reshape(train_losses, (2, 4, 5)) # 4 scenarios, 5 results\n",
    "    val_losses = np.reshape(val_losses, (2, 4, 5))\n",
    "\n",
    "    train_loss_means = np.mean(train_losses, axis=2)\n",
    "    val_loss_means = np.mean(val_losses, axis=2)\n",
    "\n",
    "    val_loss_std = np.std(val_losses, axis=2)\n",
    "    train_loss_std = np.std(train_losses, axis=2)\n",
    "\n",
    "    return train_loss_means, train_loss_std, val_loss_means, val_loss_std\n",
    "\n",
    "\n",
    "\n",
    "def plot_twin_train_val_losses(train_loss_means, train_loss_std, val_loss_means, val_loss_std, result_file=None):\n",
    "    SMALL_SIZE = 18\n",
    "    MEDIUM_SIZE = 24\n",
    "    BIGGER_SIZE = 32\n",
    "\n",
    "    #plt.rc('text', usetex=True)\n",
    "    plt.rc('font', size=SMALL_SIZE)          # controls default text sizes\n",
    "    plt.rc('axes', titlesize=SMALL_SIZE)     # fontsize of the axes title\n",
    "    plt.rc('axes', labelsize=MEDIUM_SIZE)    # fontsize of the x and y labels\n",
    "    plt.rc('xtick', labelsize=SMALL_SIZE)    # fontsize of the tick labels\n",
    "    plt.rc('ytick', labelsize=SMALL_SIZE)    # fontsize of the tick labels\n",
    "    plt.rc('legend', fontsize=MEDIUM_SIZE)    # legend fontsize\n",
    "    plt.rc('figure', titlesize=BIGGER_SIZE)  # fontsize of the figure title\n",
    "    params = {'legend.fontsize': MEDIUM_SIZE,\n",
    "              'legend.handlelength': 1}\n",
    "    plt.rcParams.update(params)\n",
    "\n",
    "    fig = plt.figure(figsize=(12,6))\n",
    "\n",
    "    bar_width = 0.18\n",
    "    r1 = np.arange(len(val_loss_means[0,:]))\n",
    "    r2 = [x + bar_width for x in r1]\n",
    "    r3 = [x + bar_width*1.2 for x in r2]\n",
    "    r4 = [x + bar_width for x in r3]\n",
    "\n",
    "\n",
    "    capsize = 5\n",
    "    plt.bar(r1, train_loss_means[0,:], color='#444444', width=bar_width, edgecolor='black', label='cmp train', hatch = '...',\n",
    "           yerr=train_loss_std[0,:], align='center', alpha=0.5, ecolor='black', capsize=capsize)\n",
    "    plt.bar(r2, val_loss_means[0,:], color='#bbbbbb', width=bar_width, edgecolor='black', label='cmp val', hatch = '',\n",
    "           yerr=val_loss_std[0,:], align='center', alpha=0.5, ecolor='black', capsize=capsize)\n",
    "    plt.bar(r3, train_loss_means[1,:], color='#888888', width=bar_width, edgecolor='black', label='lrg train', hatch = '...',\n",
    "           yerr=train_loss_std[1,:], align='center', alpha=0.5, ecolor='black', capsize=capsize)\n",
    "    plt.bar(r4, val_loss_means[1,:], color='#ffffff', width=bar_width, edgecolor='black', label='lrg val', hatch = '',\n",
    "           yerr=val_loss_std[1,:], align='center', alpha=0.5, ecolor='black', capsize=capsize)\n",
    "\n",
    "    plt.xlabel('training set size')\n",
    "    plt.ylabel('BCE')\n",
    "    plt.xticks([r+bar_width*1.5 for r in range(len(train_loss_means[0,:]))], ['10k', '20k', '40k', '80k'])\n",
    "\n",
    "    plt.legend()\n",
    "    \n",
    "    if(result_file is not None):\n",
    "        plt.savefig(result_file, dpi=fig.dpi)\n",
    "        \n",
    "    plt.show()\n",
    "    \n"
   ]
  },
  {
   "cell_type": "markdown",
   "metadata": {},
   "source": [
    "## Plot and Save Figure 6 (End-to-End Approach)"
   ]
  },
  {
   "cell_type": "code",
   "execution_count": null,
   "metadata": {},
   "outputs": [],
   "source": [
    "cmp_e2e_models = get_cmp_e2e_models()\n",
    "lrg_e2e_models = get_lrg_e2e_models()\n",
    "\n",
    "train_loss_means, train_loss_std, val_loss_means, val_loss_std = load_twin_train_val_losses(cmp_e2e_models, lrg_e2e_models)\n",
    "plot_twin_train_val_losses(train_loss_means, train_loss_std, val_loss_means, val_loss_std, \"e2e_training.png\")"
   ]
  },
  {
   "cell_type": "markdown",
   "metadata": {},
   "source": [
    "## Plot and Save Figure 7 (Hybrid Approach)"
   ]
  },
  {
   "cell_type": "code",
   "execution_count": null,
   "metadata": {},
   "outputs": [],
   "source": [
    "lrg_hybrid_models = get_lrg_hybrid_models()\n",
    "cmp_hybrid_models = get_cmp_hybrid_models()\n",
    "\n",
    "train_loss_means, train_loss_std, val_loss_means, val_loss_std = load_twin_train_val_losses(cmp_hybrid_models, lrg_hybrid_models)\n",
    "plot_twin_train_val_losses(train_loss_means, train_loss_std, val_loss_means, val_loss_std, \"hybrid_training.png\")"
   ]
  }
 ],
 "metadata": {
  "kernelspec": {
   "display_name": "Python 3",
   "language": "python",
   "name": "python3"
  },
  "language_info": {
   "codemirror_mode": {
    "name": "ipython",
    "version": 3
   },
   "file_extension": ".py",
   "mimetype": "text/x-python",
   "name": "python",
   "nbconvert_exporter": "python",
   "pygments_lexer": "ipython3",
   "version": "3.6.8"
  }
 },
 "nbformat": 4,
 "nbformat_minor": 2
}
