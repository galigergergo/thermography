{
 "cells": [
  {
   "cell_type": "markdown",
   "metadata": {},
   "source": [
    "# Inference of Real-World Data on a Single Model\n",
    "This script is to reproduce the real-world measurement results.  \n",
    "Notice, this step just created the 2d-slices, and they have to be put together in order to yield the 3d result.\n",
    "\n",
    "\n",
    "## Checking GPU Availability\n",
    "First, let's see if we have a GPU available. It is highly recommended to utilize a GPU, although it is also possible to run this experiment on the CPU at a much slower rate."
   ]
  },
  {
   "cell_type": "code",
   "execution_count": null,
   "metadata": {},
   "outputs": [],
   "source": [
    "import os\n",
    "import torch\n",
    "\n",
    "from experiment import inference_realworld\n",
    "from experiment_config import get_lrg_e2e_models, get_lrg_hybrid_models\n",
    "\n",
    "device = torch.device('cuda' if torch.cuda.is_available() else 'cpu')\n",
    "\n",
    "print(\"Current device: \" + str(device))"
   ]
  },
  {
   "cell_type": "markdown",
   "metadata": {},
   "source": [
    "## Inference with End-to-End Model"
   ]
  },
  {
   "cell_type": "code",
   "execution_count": null,
   "metadata": {},
   "outputs": [],
   "source": [
    "input_dir = os.path.join(os.getcwd(), 'data', 'end2end', 'realworld')\n",
    "\n",
    "lrg_e2e_models = get_lrg_e2e_models()\n",
    "lrg_e2e_model = lrg_e2e_models[15] # just choose one model trained with 80,000 samples\n",
    "\n",
    "inference_realworld(input_dir, lrg_e2e_model, device)"
   ]
  },
  {
   "cell_type": "markdown",
   "metadata": {},
   "source": [
    "## Inference with Hybrid Model"
   ]
  },
  {
   "cell_type": "code",
   "execution_count": null,
   "metadata": {},
   "outputs": [],
   "source": [
    "input_dir = os.path.join(os.getcwd(), 'data', 'hybrid', 'realworld')\n",
    "\n",
    "lrg_hybrid_models = get_lrg_hybrid_models()\n",
    "hybrid_model = lrg_hybrid_models[15] # just choose one model trained with 80,000 samples\n",
    "\n",
    "inference_realworld(input_dir, hybrid_model, device)"
   ]
  }
 ],
 "metadata": {
  "kernelspec": {
   "display_name": "Python 3 (ipykernel)",
   "language": "python",
   "name": "python3"
  },
  "language_info": {
   "codemirror_mode": {
    "name": "ipython",
    "version": 3
   },
   "file_extension": ".py",
   "mimetype": "text/x-python",
   "name": "python",
   "nbconvert_exporter": "python",
   "pygments_lexer": "ipython3",
   "version": "3.10.8"
  }
 },
 "nbformat": 4,
 "nbformat_minor": 4
}
